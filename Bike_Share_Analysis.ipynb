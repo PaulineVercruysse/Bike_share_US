{
 "cells": [
  {
   "cell_type": "markdown",
   "metadata": {},
   "source": [
    "# 2016 US Bike Share Activity Snapshot\n",
    "\n",
    "## Table of Contents\n",
    "- [Introduction](#intro)\n",
    "- [Posing Questions](#pose_questions)\n",
    "- [Data Collection and Wrangling](#wrangling)\n",
    "  - [Condensing the Trip Data](#condensing)\n",
    "- [Exploratory Data Analysis](#eda)\n",
    "  - [Statistics](#statistics)\n",
    "  - [Visualizations](#visualizations)\n",
    "- [Other Analysis](#eda_continued)\n",
    "\n",
    "<a id='intro'></a>\n",
    "## Introduction\n",
    "Over the past decade, bicycle-sharing systems have been growing in number and popularity in cities across the world. Bicycle-sharing systems allow users to rent bicycles for short trips, typically 30 minutes or less. Thanks to the rise in information technologies, it is easy for a user of the system to access a dock within the system to unlock or return bicycles. These technologies also provide a wealth of data that can be used to explore how these bike-sharing systems are used.\n",
    "\n",
    "In this project, an exploratory analysis is performed on data provided by [Motivate](https://www.motivateco.com/), a bike-share system provider for many major cities in the United States. A comparison of the system usage is done between three large cities: New York City, Chicago, and Washington, DC. Also, I have looked if there are any differences within each system for those users that are registered, regular users and those users that are short-term, casual users.\n",
    "\n",
    "This project has been realised in the case of the Udacity Nanodegree \"[Data Analysis](https://eu.udacity.com/course/data-analyst-nanodegree--nd002)\"."
   ]
  },
  {
   "cell_type": "markdown",
   "metadata": {},
   "source": [
    "<a id='pose_questions'></a>\n",
    "## Posing Questions\n",
    "\n",
    "Some questions that could be answered by data:\n",
    "\n",
    "1/ Are the clients more casual users or short-term users?<br>\n",
    "2/ Is there a difference in the distance covered between the two types of users?\n"
   ]
  },
  {
   "cell_type": "markdown",
   "metadata": {},
   "source": [
    "<a id='wrangling'></a>\n",
    "## Data Collection and Wrangling\n",
    "\n",
    "In this project, we will focus on the record of individual trips taken in 2016 from our selected cities: New York City, Chicago, and Washington, DC. Each of these cities has a page where we can freely download the trip data.:\n",
    "\n",
    "- New York City (Citi Bike): [Link](https://www.citibikenyc.com/system-data)\n",
    "- Chicago (Divvy): [Link](https://www.divvybikes.com/system-data)\n",
    "- Washington, DC (Capital Bikeshare): [Link](https://www.capitalbikeshare.com/system-data)\n",
    "\n",
    "If you visit these pages, you will notice that each city has a different way of delivering its data. Chicago updates with new data twice a year, Washington DC is quarterly, and New York City is monthly. \n",
    "\n",
    "However, the data were already collected in the case of the project and can be found in the folder `/original data/`. While the original data for 2016 is spread among multiple files for each city, the files in the `/original data/` folder collect all of the trip data for the year into one file per city. Some data wrangling of inconsistencies in timestamp format within each city has already been performed for you. In addition, a random 2% sample of the original data is taken to make the exploration more manageable. "
   ]
  },
  {
   "cell_type": "code",
   "execution_count": 7,
   "metadata": {},
   "outputs": [],
   "source": [
    "## import all necessary packages and functions.\n",
    "import csv # read and write csv files\n",
    "from datetime import datetime # operations to parse dates\n",
    "from pprint import pprint # use to print data structures like dictionaries in\n",
    "                          # a nicer way than the base print function."
   ]
  },
  {
   "cell_type": "code",
   "execution_count": 8,
   "metadata": {},
   "outputs": [
    {
     "name": "stdout",
     "output_type": "stream",
     "text": [
      "\n",
      "City: NYC\n",
      "OrderedDict([('tripduration', '839'),\n",
      "             ('starttime', '1/1/2016 00:09:55'),\n",
      "             ('stoptime', '1/1/2016 00:23:54'),\n",
      "             ('start station id', '532'),\n",
      "             ('start station name', 'S 5 Pl & S 4 St'),\n",
      "             ('start station latitude', '40.710451'),\n",
      "             ('start station longitude', '-73.960876'),\n",
      "             ('end station id', '401'),\n",
      "             ('end station name', 'Allen St & Rivington St'),\n",
      "             ('end station latitude', '40.72019576'),\n",
      "             ('end station longitude', '-73.98997825'),\n",
      "             ('bikeid', '17109'),\n",
      "             ('usertype', 'Customer'),\n",
      "             ('birth year', ''),\n",
      "             ('gender', '0')])\n",
      "\n",
      "City: Chicago\n",
      "OrderedDict([('trip_id', '9080545'),\n",
      "             ('starttime', '3/31/2016 23:30'),\n",
      "             ('stoptime', '3/31/2016 23:46'),\n",
      "             ('bikeid', '2295'),\n",
      "             ('tripduration', '926'),\n",
      "             ('from_station_id', '156'),\n",
      "             ('from_station_name', 'Clark St & Wellington Ave'),\n",
      "             ('to_station_id', '166'),\n",
      "             ('to_station_name', 'Ashland Ave & Wrightwood Ave'),\n",
      "             ('usertype', 'Subscriber'),\n",
      "             ('gender', 'Male'),\n",
      "             ('birthyear', '1990')])\n",
      "\n",
      "City: Washington\n",
      "OrderedDict([('Duration (ms)', '427387'),\n",
      "             ('Start date', '3/31/2016 22:57'),\n",
      "             ('End date', '3/31/2016 23:04'),\n",
      "             ('Start station number', '31602'),\n",
      "             ('Start station', 'Park Rd & Holmead Pl NW'),\n",
      "             ('End station number', '31207'),\n",
      "             ('End station', 'Georgia Ave and Fairmont St NW'),\n",
      "             ('Bike number', 'W20842'),\n",
      "             ('Member Type', 'Registered')])\n"
     ]
    }
   ],
   "source": [
    "def print_first_point(filename):\n",
    "    \"\"\"\n",
    "    This function prints and returns the first data point (second row) from\n",
    "    a csv file that includes a header row.\n",
    "    \"\"\"\n",
    "    # print city name for reference\n",
    "    city = filename.split('-')[0].split('/')[-1]\n",
    "    print('\\nCity: {}'.format(city))\n",
    "    \n",
    "    with open(filename, 'r') as f_in:\n",
    "        # Use the csv library to set up a DictReader object. ##\n",
    "        trip_reader = csv.DictReader(f_in)\n",
    "        \n",
    "        ## Use a function on the DictReader object to read the     ##\n",
    "        ## first trip from the data file and store it in a variable.     ##\n",
    "        first_trip = trip_reader.__next__()\n",
    "        \n",
    "        ## Use the pprint library to print the first trip. ##\n",
    "        pprint(first_trip)\n",
    "        \n",
    "    # output city name and first trip for later testing\n",
    "    return (city, first_trip)\n",
    "\n",
    "# list of files for each city\n",
    "data_files = ['./original data/NYC-CitiBike-2016.csv',\n",
    "              './original data/Chicago-Divvy-2016.csv',\n",
    "              './original data/Washington-CapitalBikeshare-2016.csv',]\n",
    "\n",
    "# print the first trip from each file, store in dictionary\n",
    "example_trips = {}\n",
    "for data_file in data_files:\n",
    "    city, first_trip = print_first_point(data_file)\n",
    "    example_trips[city] = first_trip"
   ]
  },
  {
   "cell_type": "markdown",
   "metadata": {},
   "source": [
    "Form the function, we see the printout of each city name (which has been parsed from the data file name) that the first trip has been parsed in the form of a dictionary. When you set up a `DictReader` object, the first row of the data file is normally interpreted as column names. Every other row in the data file will use those column names as keys, as a dictionary is generated for each row.\n",
    "\n",
    "This will be useful since we can refer to quantities by an easily-understandable label instead of just a numeric index. For example, if we have a trip stored in the variable `row`, then we would rather get the trip duration from `row['duration']` instead of `row[0]`.\n",
    "\n",
    "<a id='condensing'></a>\n",
    "### Condensing the Trip Data\n",
    "\n",
    "It should also be observable from the above printout that each city provides different information. Even where the information is the same, the column names and formats are sometimes different. To make things as simple as possible when we get to the actual exploration, we should trim and clean the data. Cleaning the data makes sure that the data formats across the cities are consistent, while trimming focuses only on the parts of the data we are most interested in to make the exploration easier to work with.\n",
    "\n",
    "You will generate new data files with five values of interest for each trip: trip duration, starting month, starting hour, day of the week, and user type. Each of these may require additional wrangling depending on the city:\n",
    "\n",
    "- **Duration**: This has been given to us in seconds (New York, Chicago) or milliseconds (Washington). A more natural unit of analysis will be if all the trip durations are given in terms of minutes.\n",
    "- **Month**, **Hour**, **Day of Week**: Ridership volume is likely to change based on the season, time of day, and whether it is a weekday or weekend. Use the start time of the trip to obtain these values. The New York City data includes the seconds in their timestamps, while Washington and Chicago do not. The [`datetime`](https://docs.python.org/3/library/datetime.html) package will be very useful here to make the needed conversions.\n",
    "- **User Type**: It is possible that users who are subscribed to a bike-share system will have different patterns of use compared to users who only have temporary passes. Washington divides its users into two types: 'Registered' for users with annual, monthly, and other longer-term subscriptions, and 'Casual', for users with 24-hour, 3-day, and other short-term passes. The New York and Chicago data uses 'Subscriber' and 'Customer' for these groups, respectively. For consistency, you will convert the Washington labels to match the other two.\n",
    "\n",
    "\n",
    "Creation of helper functions to address each of the cleaning tasks described above."
   ]
  },
  {
   "cell_type": "code",
   "execution_count": 9,
   "metadata": {},
   "outputs": [],
   "source": [
    "def duration_in_mins(datum, city):\n",
    "    \"\"\"\n",
    "    Takes as input a dictionary containing info about a single trip (datum) and\n",
    "    its origin city (city) and returns the trip duration in units of minutes.\n",
    "    \n",
    "    Remember that Washington is in terms of milliseconds while Chicago and NYC\n",
    "    are in terms of seconds. \n",
    "    \"\"\"\n",
    "    \n",
    "    # YOUR CODE HERE\n",
    "    if city == 'NYC':\n",
    "        duration = float(datum['tripduration']) / 60\n",
    "    elif city == 'Chicago':\n",
    "        duration = float(datum['tripduration']) / 60\n",
    "    elif city == 'Washington':\n",
    "        seconds = float(datum['Duration (ms)']) / 1000\n",
    "        duration = seconds / 60\n",
    "    return duration\n",
    "\n",
    "\n",
    "# Some tests to check that your code works. There should be no output if all of\n",
    "# the assertions pass. The `example_trips` dictionary was obtained from when\n",
    "# you printed the first trip from each of the original data files.\n",
    "tests = {'NYC': 13.9833,\n",
    "         'Chicago': 15.4333,\n",
    "         'Washington': 7.1231}\n",
    "\n",
    "for city in tests:\n",
    "    assert abs(duration_in_mins(example_trips[city], city) - tests[city]) < .001"
   ]
  },
  {
   "cell_type": "code",
   "execution_count": 10,
   "metadata": {},
   "outputs": [],
   "source": [
    "def time_of_trip(datum, city):\n",
    "    \"\"\"\n",
    "    Takes as input a dictionary containing info about a single trip (datum) and\n",
    "    its origin city (city) and returns the month, hour, and day of the week in\n",
    "    which the trip was made.\n",
    "    \n",
    "    Remember that NYC includes seconds, while Washington and Chicago do not.\n",
    "    \"\"\"\n",
    "\n",
    "    if city == 'NYC':\n",
    "        dt = datetime.strptime(datum['starttime'],'%m/%d/%Y %H:%M:%S') \n",
    "    elif city == 'Chicago':\n",
    "        dt = datetime.strptime(datum['starttime'],'%m/%d/%Y %H:%M') \n",
    "    elif city == 'Washington':\n",
    "        dt = datetime.strptime(datum['Start date'],'%m/%d/%Y %H:%M') \n",
    "    month = dt.month\n",
    "    hour = dt.hour\n",
    "    day_of_week = dt.strftime('%A')\n",
    "    \n",
    "    return (month, hour, day_of_week)\n",
    "\n",
    "# Some tests to check that your code works. There should be no output if all of\n",
    "# the assertions pass. The `example_trips` dictionary was obtained from when\n",
    "# you printed the first trip from each of the original data files.\n",
    "tests = {'NYC': (1, 0, 'Friday'),\n",
    "         'Chicago': (3, 23, 'Thursday'),\n",
    "         'Washington': (3, 22, 'Thursday')}\n",
    "\n",
    "for city in tests:\n",
    "    assert time_of_trip(example_trips[city], city) == tests[city]"
   ]
  },
  {
   "cell_type": "code",
   "execution_count": 11,
   "metadata": {},
   "outputs": [],
   "source": [
    "def type_of_user(datum, city):\n",
    "    \"\"\"\n",
    "    Takes as input a dictionary containing info about a single trip (datum) and\n",
    "    its origin city (city) and returns the type of system user that made the\n",
    "    trip.\n",
    "    \n",
    "    Remember that Washington has different category names compared to Chicago\n",
    "    and NYC. \n",
    "    \"\"\"\n",
    "\n",
    "    if city == 'Washington':\n",
    "        if datum['Member Type'] == 'Registered':\n",
    "            user_type = 'Subscriber'\n",
    "        elif datum['Member Type'] == 'Casual':\n",
    "            user_type = 'Customer'\n",
    "    else:\n",
    "        user_type = datum['usertype']\n",
    "    \n",
    "    return user_type\n",
    "\n",
    "\n",
    "# Some tests to check that your code works. There should be no output if all of\n",
    "# the assertions pass. The `example_trips` dictionary was obtained from when\n",
    "# you printed the first trip from each of the original data files.\n",
    "tests = {'NYC': 'Customer',\n",
    "         'Chicago': 'Subscriber',\n",
    "         'Washington': 'Subscriber'}\n",
    "\n",
    "for city in tests:\n",
    "    assert type_of_user(example_trips[city], city) == tests[city]"
   ]
  },
  {
   "cell_type": "markdown",
   "metadata": {},
   "source": [
    "With the use of the helper functions, creation of a condensed data file for each city consisting only of the data fields indicated above. "
   ]
  },
  {
   "cell_type": "code",
   "execution_count": 12,
   "metadata": {},
   "outputs": [],
   "source": [
    "def condense_data(in_file, out_file, city):\n",
    "    \"\"\"\n",
    "    This function takes full data from the specified input file\n",
    "    and writes the condensed data to a specified output file. The city\n",
    "    argument determines how the input file will be parsed.\n",
    "    \"\"\"\n",
    "    \n",
    "    with open(out_file, 'w') as f_out, open(in_file, 'r') as f_in:\n",
    "        # set up csv DictWriter object - writer requires column names for the\n",
    "        # first row as the \"fieldnames\" argument\n",
    "        out_colnames = ['duration', 'month', 'hour', 'day_of_week', 'user_type']        \n",
    "        trip_writer = csv.DictWriter(f_out, fieldnames = out_colnames)\n",
    "        trip_writer.writeheader()\n",
    "        \n",
    "        ## Set up csv DictReader object ##\n",
    "        trip_reader = csv.DictReader(f_in)\n",
    "\n",
    "        # Collect data from and process each row\n",
    "        for row in trip_reader:\n",
    "            # set up a dictionary to hold the values for the cleaned and trimmed\n",
    "            # data point\n",
    "            new_point = {}\n",
    "            ## TODO: use the helper functions to get the cleaned data from  ##\n",
    "            ## the original data dictionaries.                              ##\n",
    "            ## Note that the keys for the new_point dictionary should match ##\n",
    "            ## the column names set in the DictWriter object above.         ##\n",
    "            new_point['duration'] = duration_in_mins(row, city)\n",
    "            new_point['month'] = time_of_trip(row, city)[0]\n",
    "            new_point['hour'] = time_of_trip(row, city)[1]\n",
    "            new_point['day_of_week'] = time_of_trip(row, city)[2]\n",
    "            new_point['user_type'] = type_of_user(row, city)\n",
    "\n",
    "            ## Write the processed information to the output file.     ##\n",
    "            ## see https://docs.python.org/3/library/csv.html#writer-objects ##\n",
    "            trip_writer.writerow(new_point)    \n",
    "            "
   ]
  },
  {
   "cell_type": "code",
   "execution_count": 13,
   "metadata": {},
   "outputs": [
    {
     "name": "stdout",
     "output_type": "stream",
     "text": [
      "\n",
      "City: Washington\n",
      "OrderedDict([('duration', '7.123116666666666'),\n",
      "             ('month', '3'),\n",
      "             ('hour', '22'),\n",
      "             ('day_of_week', 'Thursday'),\n",
      "             ('user_type', 'Subscriber')])\n",
      "\n",
      "City: Chicago\n",
      "OrderedDict([('duration', '15.433333333333334'),\n",
      "             ('month', '3'),\n",
      "             ('hour', '23'),\n",
      "             ('day_of_week', 'Thursday'),\n",
      "             ('user_type', 'Subscriber')])\n",
      "\n",
      "City: NYC\n",
      "OrderedDict([('duration', '13.983333333333333'),\n",
      "             ('month', '1'),\n",
      "             ('hour', '0'),\n",
      "             ('day_of_week', 'Friday'),\n",
      "             ('user_type', 'Customer')])\n"
     ]
    }
   ],
   "source": [
    "# Run this cell to check your work\n",
    "city_info = {'Washington': {'in_file': './original data/Washington-CapitalBikeshare-2016.csv',\n",
    "                            'out_file': './condensed data/Washington-2016-Summary.csv'},\n",
    "             'Chicago': {'in_file': './original data/Chicago-Divvy-2016.csv',\n",
    "                         'out_file': './condensed data/Chicago-2016-Summary.csv'},\n",
    "             'NYC': {'in_file': './original data/NYC-CitiBike-2016.csv',\n",
    "                     'out_file': './condensed data/NYC-2016-Summary.csv'}}\n",
    "#out_file are created with the condensed data\n",
    "for city, filenames in city_info.items():\n",
    "    condense_data(filenames['in_file'], filenames['out_file'], city)\n",
    "    print_first_point(filenames['out_file'])"
   ]
  },
  {
   "cell_type": "markdown",
   "metadata": {},
   "source": [
    "<a id='eda'></a>\n",
    "## Exploratory Data Analysis\n",
    "\n",
    "<a id='statistics'></a>\n",
    "### Statistics\n",
    "\n",
    "First, let's compute some basic counts. \n",
    "\n",
    "The first cell below contains a function that uses the csv module to iterate through a provided data file, returning the number of trips made by subscribers and customers. "
   ]
  },
  {
   "cell_type": "code",
   "execution_count": 14,
   "metadata": {},
   "outputs": [],
   "source": [
    "def number_of_trips(filename):\n",
    "    \"\"\"\n",
    "    This function reads in a file with trip data (filename) and reports the number of\n",
    "    trips (made by total overall, by the subscribers and by customers) \n",
    "    and the proportion made by each type (subscribers/customers)\n",
    "    \"\"\"\n",
    "    with open(filename, 'r') as f_in:\n",
    "        # set up csv reader object\n",
    "        reader = csv.DictReader(f_in)\n",
    "        \n",
    "        # initialize count variables\n",
    "        n_subscribers = 0\n",
    "        n_customers = 0\n",
    "        \n",
    "        # tally up ride types\n",
    "        for row in reader:\n",
    "            if row['user_type'] == 'Subscriber':\n",
    "                n_subscribers += 1\n",
    "            else:\n",
    "                n_customers += 1\n",
    "        \n",
    "        # compute total number of rides\n",
    "        n_total = n_subscribers + n_customers\n",
    "        \n",
    "        #proportion of each type\n",
    "        prop_sub = n_subscribers / n_total *100\n",
    "        prop_cust = n_customers / n_total *100\n",
    "        \n",
    "        # return tallies as a tuple\n",
    "        return(n_total, n_subscribers, n_customers, round(prop_sub,2), round(prop_cust,2))"
   ]
  },
  {
   "cell_type": "markdown",
   "metadata": {},
   "source": [
    "**Question**: Which city has the highest number of trips? Which city has the highest proportion of trips made by subscribers? Which city has the highest proportion of trips made by short-term customers?"
   ]
  },
  {
   "cell_type": "code",
   "execution_count": 15,
   "metadata": {},
   "outputs": [
    {
     "name": "stdout",
     "output_type": "stream",
     "text": [
      "Washington (66326, 51753, 14573, 78.03, 21.97)\n",
      "Chicago (72131, 54982, 17149, 76.23, 23.77)\n",
      "NYC (276798, 245896, 30902, 88.84, 11.16)\n"
     ]
    }
   ],
   "source": [
    "data_file_Washington = './condensed data/Washington-2016-Summary.csv'\n",
    "data_file_Chicago = './condensed data/Chicago-2016-Summary.csv'\n",
    "data_file_NYC = './condensed data/NYC-2016-Summary.csv'\n",
    "\n",
    "print('Washington',number_of_trips(data_file_Washington))\n",
    "print('Chicago',number_of_trips(data_file_Chicago))\n",
    "print('NYC',number_of_trips(data_file_NYC))"
   ]
  },
  {
   "cell_type": "markdown",
   "metadata": {},
   "source": [
    "**Answer**: \n",
    "- Which city has the highest number of trips? NYC with 276798 trips, in front of Chicago with 72131 trips and Washington with 66326 trips.\n",
    "- Which city has the highest proportion of trips made by subscribers? NYC have the highest proportion of trips made by subscribers (88.8%) in front of Washington (78%) and Chicago (76.2%).\n",
    "- Which city has the highest proportion of trips made by short-term customers? Logically, Chicago has the highest proportion of trips made by short-term customers with 23.8%, then Washington with 22% and then NYC with 11.2%."
   ]
  },
  {
   "cell_type": "markdown",
   "metadata": {},
   "source": [
    "**Question**: Bike-share systems are designed for riders to take short trips. Most of the time, users are allowed to take trips of 30 minutes or less with no additional charges, with overage charges made for trips of longer than that duration. What is the average trip length for each city? What proportion of rides made in each city are longer than 30 minutes?"
   ]
  },
  {
   "cell_type": "code",
   "execution_count": 16,
   "metadata": {
    "scrolled": true
   },
   "outputs": [],
   "source": [
    "## HINT: The csv module reads in all of the data as strings, including  ##\n",
    "## numeric values. You will need a function to convert the strings      ##\n",
    "## into an appropriate numeric type before you aggregate data.          ##\n",
    "\n",
    "def type_duration_of_trips(filename):\n",
    "    \"\"\"\n",
    "    This function reads in a file with trip data (filename) and reports the average trip lenght, the proportion of\n",
    "    trips longer than 30min.\n",
    "    \"\"\"\n",
    "    with open(filename, 'r') as f_in:\n",
    "        # set up csv reader object\n",
    "        reader = csv.DictReader(f_in)\n",
    "        \n",
    "        # initialize count variables\n",
    "        trip_shorter_30min = 0\n",
    "        trip_longer_30min = 0\n",
    "        total_time = 0\n",
    "        \n",
    "        # tally up ride types\n",
    "        for row in reader:\n",
    "            total_time += float(row['duration'])\n",
    "            if float(row['duration']) <= 30:\n",
    "                trip_shorter_30min += 1\n",
    "            else:\n",
    "                trip_longer_30min += 1\n",
    "        \n",
    "        # compute total number of rides\n",
    "        trip_total = trip_shorter_30min + trip_longer_30min\n",
    "        \n",
    "        #average trip lenght\n",
    "        average_trip_total = total_time / trip_total\n",
    "        \n",
    "        #proportion of trip longer than 30min\n",
    "        prop_longer = trip_longer_30min / trip_total *100\n",
    "        \n",
    "        # return tallies as a tuple\n",
    "        return(round(average_trip_total,2), round(prop_longer,2))"
   ]
  },
  {
   "cell_type": "code",
   "execution_count": 17,
   "metadata": {},
   "outputs": [
    {
     "name": "stdout",
     "output_type": "stream",
     "text": [
      "Washington (18.93, 10.84)\n",
      "Chicago (16.56, 8.33)\n",
      "NYC (15.81, 7.3)\n"
     ]
    }
   ],
   "source": [
    "data_file_Washington = './condensed data/Washington-2016-Summary.csv'\n",
    "data_file_Chicago = './condensed data/Chicago-2016-Summary.csv'\n",
    "data_file_NYC = './condensed data/NYC-2016-Summary.csv'\n",
    "\n",
    "print('Washington', type_duration_of_trips(data_file_Washington))\n",
    "print('Chicago', type_duration_of_trips(data_file_Chicago))\n",
    "print('NYC', type_duration_of_trips(data_file_NYC))"
   ]
  },
  {
   "cell_type": "markdown",
   "metadata": {},
   "source": [
    "**Answer**: \n",
    "- What is the average trip length for each city? Washington: 18.9 min, Chicago: 16.6 min, NYC: 15.8 min\n",
    "- What proportion of rides made in each city are longer than 30 minutes? There are 10.8% in Washington, Chicago 8.3% and NYC 7.3% of the rides longer than 30 minutes."
   ]
  },
  {
   "cell_type": "markdown",
   "metadata": {},
   "source": [
    "**Question**: Dig deeper into the question of trip duration based on ridership. Within Chicago, which type of user takes longer rides on average: Subscribers or Customers?\n"
   ]
  },
  {
   "cell_type": "code",
   "execution_count": 18,
   "metadata": {},
   "outputs": [],
   "source": [
    "def user_time_ride(filename):\n",
    "    \"\"\"\n",
    "    This function reads in a file with trip data and reports the trip duration depending on \n",
    "    the type of user: Subscribers of Customers\n",
    "    \"\"\"\n",
    "    with open(filename, 'r') as f_in:\n",
    "        # set up csv reader object\n",
    "        reader = csv.DictReader(f_in)\n",
    "        \n",
    "        # initialize count variables\n",
    "        total_time_sub = 0\n",
    "        total_time_cus = 0\n",
    "        \n",
    "        #get number of rides for each type with from previous function\n",
    "        total_sub = number_of_trips(filename)[1]\n",
    "        total_cus = number_of_trips(filename)[2]\n",
    "        \n",
    "        #tally up customer types and get the ride time\n",
    "        for row in reader:\n",
    "            if row['user_type'] == 'Subscriber':\n",
    "                total_time_sub += float(row['duration'])\n",
    "            else:\n",
    "                total_time_cus += float(row['duration'])\n",
    "            \n",
    "        #average time of each type of user\n",
    "        avg_time_sub = total_time_sub / total_sub\n",
    "        avg_time_cus = total_time_cus / total_cus\n",
    "        \n",
    "        # return tallies as a tuple\n",
    "        return(round(avg_time_sub,2), round(avg_time_cus),2)"
   ]
  },
  {
   "cell_type": "code",
   "execution_count": 19,
   "metadata": {},
   "outputs": [
    {
     "name": "stdout",
     "output_type": "stream",
     "text": [
      "Washington (12.53, 42, 2)\n",
      "Chicago (12.07, 31, 2)\n",
      "NYC (13.68, 33, 2)\n"
     ]
    }
   ],
   "source": [
    "data_file_Washington = './condensed data/Washington-2016-Summary.csv'\n",
    "data_file_Chicago = './condensed data/Chicago-2016-Summary.csv'\n",
    "data_file_NYC = './condensed data/NYC-2016-Summary.csv'\n",
    "\n",
    "print('Washington', user_time_ride(data_file_Washington))\n",
    "print('Chicago', user_time_ride(data_file_Chicago))\n",
    "print('NYC', user_time_ride(data_file_NYC))"
   ]
  },
  {
   "cell_type": "markdown",
   "metadata": {},
   "source": [
    "**Answer**: For the city of **Chicago**, the average Subscriber trip duration is 12 minutes and the average Customer trip duration is 31 minutes."
   ]
  },
  {
   "cell_type": "markdown",
   "metadata": {},
   "source": [
    "<a id='visualizations'></a>\n",
    "### Visualizations\n",
    "\n",
    "While the mean trip time for Subscribers is well under 30 minutes, the mean trip time for Customers is actually _above_ 30 minutes! It will be interesting for us to look at how the trip times are distributed. "
   ]
  },
  {
   "cell_type": "code",
   "execution_count": 20,
   "metadata": {},
   "outputs": [],
   "source": [
    "# load library\n",
    "import matplotlib.pyplot as plt\n",
    "\n",
    "# allows for plots to be displayed inline with the notebook. \n",
    "%matplotlib inline \n"
   ]
  },
  {
   "cell_type": "code",
   "execution_count": 21,
   "metadata": {},
   "outputs": [],
   "source": [
    "#collect all of the trip times as a list and then use pyplot functions to generate a histogram of trip times.     ##\n",
    "\n",
    "def histo_trip_time(filename):\n",
    "    \"\"\"\n",
    "    This function reads in a file with trip data (filename) and plot the distribution of trip duration\n",
    "    \"\"\"\n",
    "    with open(filename, 'r') as f_in:\n",
    "        # set up csv reader object\n",
    "        reader = csv.DictReader(f_in)\n",
    "        \n",
    "        # initialisation of the list contaning the duration data of all the users\n",
    "        data = []\n",
    "\n",
    "        #filling the data list\n",
    "        for row in reader:\n",
    "            duration = float(row['duration'])\n",
    "            data.append(round(duration, 2))\n",
    "            \n",
    "        #plotting the histogram\n",
    "        plt.hist(data)\n",
    "        plt.title('Distribution of Trip Durations')\n",
    "        plt.xlabel('Duration (m)')\n",
    "        plt.show()"
   ]
  },
  {
   "cell_type": "code",
   "execution_count": 24,
   "metadata": {},
   "outputs": [
    {
     "data": {
      "image/png": "[encoded data removed]",
      "text/plain": [
       "<matplotlib.figure.Figure at 0x109ac0400>"
      ]
     },
     "metadata": {},
     "output_type": "display_data"
    },
    {
     "name": "stdout",
     "output_type": "stream",
     "text": [
      "None\n"
     ]
    }
   ],
   "source": [
    "data_file_Chicago = './condensed data/Chicago-2016-Summary.csv'\n",
    "print(histo_trip_time(data_file_Chicago))"
   ]
  },
  {
   "cell_type": "code",
   "execution_count": 25,
   "metadata": {},
   "outputs": [],
   "source": [
    "import numpy as np\n",
    "\n",
    "def histo_trip_time_user(filename):\n",
    "    \"\"\"\n",
    "    This function reads in a file with trip data (filename) and plot the distribution of \n",
    "    trip duration in the different type of user.\n",
    "    \"\"\"\n",
    "    with open(filename, 'r') as f_in:\n",
    "        # set up csv reader object\n",
    "        reader = csv.DictReader(f_in)\n",
    "        \n",
    "        # initialisation of the list contaning the duration data of all the users\n",
    "        data_sub = []\n",
    "        data_cus = []\n",
    "\n",
    "        #filling the data list\n",
    "        for row in reader:\n",
    "            if row['user_type'] == 'Subscriber':\n",
    "                duration_sub = float(row['duration'])\n",
    "                data_sub.append(round(duration_sub, 2))\n",
    "            else:\n",
    "                duration_cus = float(row['duration'])\n",
    "                data_cus.append(round(duration_cus, 2))\n",
    "            \n",
    "        #creation of a list from 0 to 75 with a step of 5 to use as bin of the histograms\n",
    "        bins = list(np.arange(0,75,5))\n",
    "        \n",
    "        #plotting the histograms\n",
    "        plt.hist(data_sub, bins=bins, range=(0,75))\n",
    "        plt.title('Distribution of Trip Durations of Subscribers')\n",
    "        plt.xlabel('Duration (m)')\n",
    "        plt.show()\n",
    "        \n",
    "        plt.hist(data_cus, bins=bins, range=(0,75))\n",
    "        plt.title('Distribution of Trip Durations of Customers')\n",
    "        plt.xlabel('Duration (m)')\n",
    "        plt.show()\n"
   ]
  },
  {
   "cell_type": "markdown",
   "metadata": {},
   "source": [
    "**Question**: Plot the distribution of trip times for the Subscribers in Chicago, and for only the Customers. Limits are added to the plots so that only trips of duration less than 75 minutes are plotted. \n",
    "\n",
    "For each group, where is the peak of each distribution? How would you describe the shape of each distribution?"
   ]
  },
  {
   "cell_type": "code",
   "execution_count": 26,
   "metadata": {
    "scrolled": false
   },
   "outputs": [
    {
     "data": {
      "image/png": "[encoded data removed]",
      "text/plain": [
       "<matplotlib.figure.Figure at 0x1154d2e10>"
      ]
     },
     "metadata": {},
     "output_type": "display_data"
    },
    {
     "data": {
      "image/png": "[encoded data removed]",
      "text/plain": [
       "<matplotlib.figure.Figure at 0x11526e940>"
      ]
     },
     "metadata": {},
     "output_type": "display_data"
    },
    {
     "name": "stdout",
     "output_type": "stream",
     "text": [
      "None\n"
     ]
    }
   ],
   "source": [
    "data_file_Chicago = './condensed data/Chicago-2016-Summary.csv'\n",
    "print(histo_trip_time_user(data_file_Chicago))"
   ]
  },
  {
   "cell_type": "markdown",
   "metadata": {},
   "source": [
    "**Answer**: \n",
    "- Where is the peak of each distribution? For the Subscribers, the peak of ride duration is between 5 and 10 minutes. For the Customers, the peak of duration is between 20 and 25minutes.\n",
    "- How would you describe the shape of each distribution? Both distributions are asymmetrical right skewed."
   ]
  },
  {
   "cell_type": "markdown",
   "metadata": {
    "collapsed": true
   },
   "source": [
    "<a id='eda_continued'></a>\n",
    "## Other Analysis\n",
    "\n",
    "**Questions and Answers**: On the city of **Chicago**:\n",
    "- How does ridership differ by month? Which month has the highest ridership (average duration and number of user)?\n",
    "\n",
    "There is a varation of the number of users (Fig.1) and of the duration of rides (Fig.2) during the year. From May to October, there are more customers and from April to September rides are longer than the rest of the year. The month with the highest nomber of use with the longest rides is July. One explanation of this variation could be the weather.\n",
    "\n",
    "- Does the ratio of Subscriber trips to Customer trips change depending on the month?\n",
    "\n",
    "From the Fig. 2, we observe that during this higher months the proportion of Customers users is strongly increasing (30% of Customers users in July). During the rest of the year, the number of use by the Customers is not so important (5% to 15%).\n",
    "We also observe that the average duration of rides by the Subscribers does not have a large variation during the year (Fig. 3). The varation of duration observed is mainly due to a varation in the Customers."
   ]
  },
  {
   "cell_type": "code",
   "execution_count": 27,
   "metadata": {},
   "outputs": [],
   "source": [
    "import numpy as np\n",
    "import matplotlib.pyplot as plt\n",
    "\n",
    "%matplotlib inline\n",
    "\n",
    "#function to sum the elements of list\n",
    "def sum_list(list_):\n",
    "    s = 0\n",
    "    for i in list_:\n",
    "        s += i\n",
    "    return s\n",
    "\n",
    "#Main Function\n",
    "def ride_season(filename):\n",
    "    \"\"\"\n",
    "    This function reads in a file with trip data and plot during the year the number of user, the proportion of \n",
    "    users in the different types, the average duration of ride in the different types.\n",
    "    \"\"\"\n",
    "    with open(filename, 'r') as f_in:\n",
    "        # set up csv reader object\n",
    "        reader = csv.DictReader(f_in)\n",
    "        \n",
    "        # initialisation of varaiables\n",
    "        sub = {} #dictionnary with information for Subscribers\n",
    "        cus = {} #dictionnary with information for Customers\n",
    "            #structure each dict = {month1: [12, 15, 33, 17], month2: [durations], ...}\n",
    "        n_sub = [0]*12 #list of the number of Subscribers in the different months\n",
    "        n_cus = [0]*12 #list of the number of Customers in the different months\n",
    "        n_total = [0]*12 #list of the number of Users in the different months\n",
    "        n_prop_sub = [0]*12 #list of the proportion of Subscribers in the different months\n",
    "        n_prop_cus = [0]*12 #list of the proportion of Customers in the different months\n",
    "        avg_duration_sub = [0]*12 #list of the average trip duration of Subscribers in the different months\n",
    "        avg_duration_cus = [0]*12 #list of the average trip duration of Customers in the different months\n",
    "        \n",
    "        #TALLY UP DATA and ANALYSIS\n",
    "        #insert the data into dictionnary depending of the type and the month\n",
    "        for row in reader:\n",
    "            duration = float(row['duration'])\n",
    "            user = row['user_type']\n",
    "            month = int(row['month'])\n",
    "            \n",
    "            if user == 'Subscriber':\n",
    "                if month in sub:\n",
    "                    sub[month].append(duration) #month already in the dictioannary\n",
    "                else:\n",
    "                    sub[month] = [duration] #month not in the dictionnary\n",
    "                    \n",
    "            else:\n",
    "                if month in cus:\n",
    "                    cus[month].append(duration)\n",
    "                else:\n",
    "                    cus[month] = [duration]\n",
    "                    \n",
    "        #obtain the number of user total and per type\n",
    "        for i in range(0,12):\n",
    "            n_sub[i]= len(sub[i+1])\n",
    "            n_cus[i] = len(cus[i+1])\n",
    "            n_total[i] = n_sub[i] + n_cus[i]\n",
    "            n_prop_sub [i] = n_sub[i] / n_total[i] * 100\n",
    "            n_prop_cus [i] = n_cus[i] / n_total[i] * 100\n",
    "            \n",
    "        #obtain the average of duration per type\n",
    "        for i in range(0,12):\n",
    "            #avg_duration_sub[i] = sum_list(sub[i+1]) / n_sub[i] #original\n",
    "            #avg_duration_cus[i] = sum_list(cus[i+1]) / n_cus[i] #original\n",
    "            avg_duration_sub[i] = np.mean(sub[i+1])\n",
    "            avg_duration_cus[i] = np.mean(cus[i+1])\n",
    "        \n",
    "        #PLOTS (Bar)\n",
    "        #data for the x axis\n",
    "        ind = np.arange(12) \n",
    "        months = ('Jan', 'Feb', 'Mar', 'Apr', 'May', 'Jun', 'Jul', 'Aug', 'Sep', \n",
    "                         'Oct', 'Nov', 'Dec' )\n",
    "        \n",
    "        #plot the number of total user during the year\n",
    "        p1 = plt.bar(ind,n_total )\n",
    "        plt.ylabel('number of users')\n",
    "        plt.title('Number of total users per month')\n",
    "        plt.xticks(ind, months)\n",
    "        print('Figure 1')\n",
    "        plt.show()\n",
    "            \n",
    "        #Stacked Bar Graph of proportion for user per type during the different months \n",
    "        p2 = plt.bar(ind, n_prop_sub)\n",
    "        p3 = plt.bar(ind, n_prop_cus, bottom=n_prop_sub)\n",
    "        plt.ylabel('pourcentage of total user')\n",
    "        plt.title('Ratio of users by type and month')\n",
    "        plt.xticks(ind, months)\n",
    "        plt.legend((p2[0], p3[0]), ('Subscribers', 'Customers'))     \n",
    "        print('Figure 2')\n",
    "        plt.show()\n",
    "        \n",
    "        #histogram of both distribution (Cus and Sub) on same plot\n",
    "        width=0.35 #width of the bars\n",
    "        fig,ax = plt.subplots(figsize=(8,6))\n",
    "        bar1 = ax.bar(ind, n_sub, width) #(x, y, width)\n",
    "        bar2 = ax.bar(ind+width, n_cus, width)\n",
    "        ax.set_title('Distributions of Customers and Subscribers number of rides')\n",
    "        ax.set_xticklabels(months)\n",
    "        ax.set_xticks(ind + width/2)\n",
    "        ax.set_ylabel('Count of rides')\n",
    "        ax.legend((bar1[0], bar2[0]), ('Subscribers', 'Customers'), loc='upper right')\n",
    "        print ('Figure 2B')\n",
    "        plt.show()\n",
    "        \n",
    "        #Stacked Bar Graph of average duration of ride depending of type of user\n",
    "        p4 = plt.bar(ind, avg_duration_sub)\n",
    "        p5 = plt.bar(ind, avg_duration_cus, bottom=avg_duration_sub)\n",
    "        plt.ylabel('average duration (min)')\n",
    "        plt.title('Average duration of ride by type and month')\n",
    "        plt.xticks(ind, months)\n",
    "        plt.legend((p4[0], p5[0]), ('Subscribers', 'Customers'))\n",
    "        print('Figure 3')\n",
    "        plt.show()\n",
    "                        "
   ]
  },
  {
   "cell_type": "code",
   "execution_count": 28,
   "metadata": {
    "scrolled": false
   },
   "outputs": [
    {
     "name": "stdout",
     "output_type": "stream",
     "text": [
      "Figure 1\n"
     ]
    },
    {
     "data": {
      "image/png": "[encoded data removed]",
      "text/plain": [
       "<matplotlib.figure.Figure at 0x1158807b8>"
      ]
     },
     "metadata": {},
     "output_type": "display_data"
    },
    {
     "name": "stdout",
     "output_type": "stream",
     "text": [
      "Figure 2\n"
     ]
    },
    {
     "data": {
      "image/png": "[encoded data removed]",
      "text/plain": [
       "<matplotlib.figure.Figure at 0x11550f048>"
      ]
     },
     "metadata": {},
     "output_type": "display_data"
    },
    {
     "name": "stdout",
     "output_type": "stream",
     "text": [
      "Figure 2B\n"
     ]
    },
    {
     "data": {
      "image/png": "[encoded data removed]",
      "text/plain": [
       "<matplotlib.figure.Figure at 0x1155c5e48>"
      ]
     },
     "metadata": {},
     "output_type": "display_data"
    },
    {
     "name": "stdout",
     "output_type": "stream",
     "text": [
      "Figure 3\n"
     ]
    },
    {
     "data": {
      "image/png": "[encoded data removed]",
      "text/plain": [
       "<matplotlib.figure.Figure at 0x115501e80>"
      ]
     },
     "metadata": {},
     "output_type": "display_data"
    },
    {
     "name": "stdout",
     "output_type": "stream",
     "text": [
      "None\n"
     ]
    }
   ],
   "source": [
    "data_file_Chicago = './condensed data/Chicago-2016-Summary.csv'\n",
    "print(ride_season(data_file_Chicago))\n"
   ]
  }
 ],
 "metadata": {
  "anaconda-cloud": {},
  "kernelspec": {
   "display_name": "Python [default]",
   "language": "python",
   "name": "python3"
  },
  "language_info": {
   "codemirror_mode": {
    "name": "ipython",
    "version": 3
   },
   "file_extension": ".py",
   "mimetype": "text/x-python",
   "name": "python",
   "nbconvert_exporter": "python",
   "pygments_lexer": "ipython3",
   "version": "3.6.4"
  }
 },
 "nbformat": 4,
 "nbformat_minor": 1
}
